{
 "cells": [
  {
   "cell_type": "code",
   "execution_count": 1,
   "id": "6af6de86",
   "metadata": {},
   "outputs": [
    {
     "name": "stdout",
     "output_type": "stream",
     "text": [
      "masukan hobi kamu: sepak bola\n",
      "Hobi anda ada: sepak bola\n"
     ]
    }
   ],
   "source": [
    "hobi = input(\"masukan hobi kamu: \")\n",
    "print (f\"Hobi anda ada: {hobi}\")"
   ]
  },
  {
   "cell_type": "code",
   "execution_count": 2,
   "id": "a0da922f",
   "metadata": {},
   "outputs": [
    {
     "name": "stdout",
     "output_type": "stream",
     "text": [
      "masukan nama anda: Muhammad Alif Apriza\n",
      "Huruf Awal Nama Anda: M\n"
     ]
    }
   ],
   "source": [
    "nama = input(\"masukan nama anda: \").upper()\n",
    "print(f\"Huruf Awal Nama Anda: {nama[0]}\")"
   ]
  },
  {
   "cell_type": "code",
   "execution_count": 3,
   "id": "0ce297aa",
   "metadata": {},
   "outputs": [
    {
     "name": "stdout",
     "output_type": "stream",
     "text": [
      "berapakah perkalian 0 dan 78 : 0\n",
      "Jawaban Kamu True\n"
     ]
    }
   ],
   "source": [
    "from random import randint\n",
    "x = randint (0,100)\n",
    "y = randint (0,100)\n",
    "hasil = int(input(f\"berapakah perkalian {x} dan {y} : \"))\n",
    "print (f\"Jawaban Kamu {hasil==x * y}\")"
   ]
  },
  {
   "cell_type": "code",
   "execution_count": 5,
   "id": "6daeefa3",
   "metadata": {},
   "outputs": [
    {
     "name": "stdout",
     "output_type": "stream",
     "text": [
      "Names: Panik\n",
      "UNICODE: U0001F631\n",
      "😱\n"
     ]
    }
   ],
   "source": [
    "print(\"Names: Panik\")\n",
    "print(\"UNICODE: U0001F631\")\n",
    "print(\"\\U0001F631\")"
   ]
  },
  {
   "cell_type": "code",
   "execution_count": 6,
   "id": "7cfee5fb",
   "metadata": {},
   "outputs": [
    {
     "name": "stdout",
     "output_type": "stream",
     "text": [
      "1. Belajar\n",
      "2. ajar\n",
      "3. Pemrograman\n",
      "4. gram\n",
      "5. Python\n",
      "6. Py\n",
      "7. gram Python\n",
      "8. Pemrograman Py\n"
     ]
    }
   ],
   "source": [
    "kalimat = \"Belajar Pemrograman Python\"\n",
    "print (f\"1. {kalimat[0:7]}\")\n",
    "print (f\"2. {kalimat[3:7]}\")\n",
    "print (f\"3. {kalimat[8:19]}\")\n",
    "print (f\"4. {kalimat[13:17]}\")\n",
    "print (f\"5. {kalimat[20:26]}\")\n",
    "print (f\"6. {kalimat[20:22]}\")\n",
    "print (f\"7. {kalimat[13:17]} {kalimat[20:26]}\")\n",
    "print (f\"8. {kalimat[8:19]} {kalimat[20:22]}\")"
   ]
  },
  {
   "cell_type": "code",
   "execution_count": 7,
   "id": "a89aac51",
   "metadata": {},
   "outputs": [
    {
     "name": "stdout",
     "output_type": "stream",
     "text": [
      "bandunglautanapi306@gmail.com\n",
      "True\n"
     ]
    }
   ],
   "source": [
    "import re\n",
    "\n",
    "def email (cek_email):\n",
    "    syarat  = \"^[a-zA-Z0-9-_]+@[a-zA-Z0-9]+\\.[a-z]{1,3}$\"\n",
    "    if re.match(syarat,cek_email):\n",
    "        return True\n",
    "    return False\n",
    "\n",
    "cek_email = input()\n",
    "print(email(cek_email))"
   ]
  }
 ],
 "metadata": {
  "kernelspec": {
   "display_name": "Python 3 (ipykernel)",
   "language": "python",
   "name": "python3"
  },
  "language_info": {
   "codemirror_mode": {
    "name": "ipython",
    "version": 3
   },
   "file_extension": ".py",
   "mimetype": "text/x-python",
   "name": "python",
   "nbconvert_exporter": "python",
   "pygments_lexer": "ipython3",
   "version": "3.9.12"
  }
 },
 "nbformat": 4,
 "nbformat_minor": 5
}
